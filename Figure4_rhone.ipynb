{
 "cells": [
  {
   "cell_type": "code",
   "execution_count": 1,
   "id": "007f5c26",
   "metadata": {},
   "outputs": [
    {
     "name": "stderr",
     "output_type": "stream",
     "text": [
      "2022-11-17 09:09:47.084594: I tensorflow/core/util/util.cc:169] oneDNN custom operations are on. You may see slightly different numerical results due to floating-point round-off errors from different computation orders. To turn them off, set the environment variable `TF_ENABLE_ONEDNN_OPTS=0`.\n"
     ]
    }
   ],
   "source": [
    "import numpy as np\n",
    "import tensorflow as tf\n",
    "import random\n",
    "import sys\n",
    "import eli5\n",
    "\n",
    "import d2d\n",
    "import importlib\n",
    "importlib.reload(d2d)\n",
    "import pandas as pd\n",
    "import os"
   ]
  },
  {
   "cell_type": "markdown",
   "id": "8b0464b0",
   "metadata": {},
   "source": [
    "# Load data from ```run_glacier_zone_comparison.py```"
   ]
  },
  {
   "cell_type": "code",
   "execution_count": null,
   "id": "ab332242",
   "metadata": {},
   "outputs": [],
   "source": [
    "with open('glacier_zone_comparison.pickle', 'rb') as handle:\n",
    "    output = pickle.load(handle)\n",
    "    \n",
    "history = output['history']\n",
    "val_performance = output['val_performance']\n",
    "performance = output['performance']"
   ]
  },
  {
   "cell_type": "markdown",
   "id": "9ff85d04",
   "metadata": {},
   "source": [
    "# Extract the MAE"
   ]
  },
  {
   "cell_type": "code",
   "execution_count": null,
   "id": "d24072a1",
   "metadata": {},
   "outputs": [],
   "source": [
    "mae_all = []\n",
    "for i in performance.values():\n",
    "    mae_all.append(i[-1])"
   ]
  },
  {
   "cell_type": "markdown",
   "id": "95a3eb56",
   "metadata": {},
   "source": [
    "# Define cable regions"
   ]
  },
  {
   "cell_type": "code",
   "execution_count": null,
   "id": "d1219088",
   "metadata": {},
   "outputs": [],
   "source": [
    "whole_cable = mae_all[0::3]\n",
    "ablation_zone = mae_all[1::3]\n",
    "accumulation_zone = mae_all[2::3]"
   ]
  },
  {
   "cell_type": "markdown",
   "id": "4629dec5",
   "metadata": {},
   "source": [
    "# Make Plot"
   ]
  },
  {
   "cell_type": "code",
   "execution_count": null,
   "id": "cd2bbbf5",
   "metadata": {},
   "outputs": [],
   "source": [
    "import matplotlib\n",
    "import matplotlib.pyplot as plt\n",
    "\n",
    "fig, ax = plt.subplots(figsize=(7,7))\n",
    "fig.patch.set_facecolor('white')\n",
    "\n",
    "ax.hist(whole_cable, label='Whole Cable Length', lw=2, alpha = 0.7)\n",
    "ax.hist(ablation_zone, label='Ablation Zone', lw=2, alpha = 0.7)\n",
    "ax.hist(accumulation_zone, label='Accumulation Zone', lw=2, alpha = 0.7)\n",
    "ax.set_ylabel('Frequency')\n",
    "ax.set_xlabel('Mean Absolute Error')\n",
    "ax.legend()"
   ]
  },
  {
   "cell_type": "code",
   "execution_count": null,
   "id": "df6bac2a",
   "metadata": {},
   "outputs": [],
   "source": []
  }
 ],
 "metadata": {
  "kernelspec": {
   "display_name": "Python 3 (ipykernel)",
   "language": "python",
   "name": "python3"
  },
  "language_info": {
   "codemirror_mode": {
    "name": "ipython",
    "version": 3
   },
   "file_extension": ".py",
   "mimetype": "text/x-python",
   "name": "python",
   "nbconvert_exporter": "python",
   "pygments_lexer": "ipython3",
   "version": "3.7.12"
  }
 },
 "nbformat": 4,
 "nbformat_minor": 5
}
