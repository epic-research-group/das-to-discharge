{
 "cells": [
  {
   "cell_type": "code",
   "execution_count": 1,
   "id": "007f5c26",
   "metadata": {},
   "outputs": [
    {
     "name": "stderr",
     "output_type": "stream",
     "text": [
      "2022-11-15 23:06:44.841644: I tensorflow/core/platform/cpu_feature_guard.cc:193] This TensorFlow binary is optimized with oneAPI Deep Neural Network Library (oneDNN) to use the following CPU instructions in performance-critical operations:  AVX2 AVX512F AVX512_VNNI FMA\n",
      "To enable them in other operations, rebuild TensorFlow with the appropriate compiler flags.\n",
      "2022-11-15 23:06:44.988200: I tensorflow/core/util/util.cc:169] oneDNN custom operations are on. You may see slightly different numerical results due to floating-point round-off errors from different computation orders. To turn them off, set the environment variable `TF_ENABLE_ONEDNN_OPTS=0`.\n",
      "2022-11-15 23:06:45.021542: E tensorflow/stream_executor/cuda/cuda_blas.cc:2981] Unable to register cuBLAS factory: Attempting to register factory for plugin cuBLAS when one has already been registered\n",
      "2022-11-15 23:06:45.668185: W tensorflow/stream_executor/platform/default/dso_loader.cc:64] Could not load dynamic library 'libnvinfer.so.7'; dlerror: libnvinfer.so.7: cannot open shared object file: No such file or directory\n",
      "2022-11-15 23:06:45.668256: W tensorflow/stream_executor/platform/default/dso_loader.cc:64] Could not load dynamic library 'libnvinfer_plugin.so.7'; dlerror: libnvinfer_plugin.so.7: cannot open shared object file: No such file or directory\n",
      "2022-11-15 23:06:45.668263: W tensorflow/compiler/tf2tensorrt/utils/py_utils.cc:38] TF-TRT Warning: Cannot dlopen some TensorRT libraries. If you would like to use Nvidia GPU with TensorRT, please make sure the missing libraries mentioned above are installed properly.\n"
     ]
    }
   ],
   "source": [
    "import numpy as np\n",
    "import tensorflow as tf\n",
    "import random\n",
    "import sys\n",
    "import eli5\n",
    "\n",
    "import d2d\n",
    "import importlib\n",
    "importlib.reload(d2d)\n",
    "import pandas as pd\n",
    "import os"
   ]
  },
  {
   "cell_type": "code",
   "execution_count": null,
   "id": "2859c9db",
   "metadata": {},
   "outputs": [],
   "source": [
    "history = {}\n",
    "val_performance = {}\n",
    "performance = {}\n",
    "\n",
    "seeds = list(np.arange(1,26,1))\n",
    "input_columns = [list(np.arange(0, 2308, 1)), list(np.arange(0, 1600, 1)), list(np.arange(1600, 2308, 1))]\n",
    "location = ['Whole Cable', 'Ablation Zone', 'Accumulation Zone']\n",
    "\n",
    "for SEED in seeds:\n",
    "    \n",
    "    for ic, loc in zip(input_columns, location):\n",
    "        \n",
    "\n",
    "        file = \"/data/fast0/datasets/Rhone_data_continuous_highpass.h5\"\n",
    "\n",
    "        filt = 'Highpass'\n",
    "\n",
    "        ww = 200\n",
    "        bs = 32\n",
    "\n",
    "        random.seed(SEED)\n",
    "        np.random.seed(SEED)\n",
    "        tf.random.set_seed(SEED)\n",
    "\n",
    "\n",
    "        linear_model, lstm_model, dnn_model, df_all_chan, das_data_all, f  = d2d.import_data(filename = file, input_columns = ic)\n",
    "\n",
    "        da = df_all_chan.to_numpy()\n",
    "\n",
    "        multi_step_window_shuffled = d2d.WindowGenerator(df_all_chan,\n",
    "                                                        input_width=ww,\n",
    "                                                        label_width=1, \n",
    "                                                        shift=0,\n",
    "                                                        label_columns=['Discharge'],\n",
    "                                                        input_columns=ic,\n",
    "                                                        shuffle=True,\n",
    "                                                        batch_size=bs)\n",
    "\n",
    "        history['lstm '+loc+' '+str(SEED)] = d2d.compile_and_fit(lstm_model, multi_step_window_shuffled, learning_rate = 0.001)\n",
    "\n",
    "        val_performance['lstm '+loc+' '+str(SEED)] = lstm_model.evaluate(multi_step_window_shuffled.val)\n",
    "        performance['lstm '+loc+' '+str(SEED)] = lstm_model.evaluate(multi_step_window_shuffled.test, verbose=0)\n"
   ]
  },
  {
   "cell_type": "code",
   "execution_count": null,
   "id": "d24072a1",
   "metadata": {},
   "outputs": [],
   "source": [
    "mae_all = []\n",
    "for i in performance.values():\n",
    "    mae_all.append(i[-1])"
   ]
  },
  {
   "cell_type": "code",
   "execution_count": null,
   "id": "d1219088",
   "metadata": {},
   "outputs": [],
   "source": [
    "whole_cable = mae_all[0::3]\n",
    "ablation_zone = mae_all[1::3]\n",
    "accumulation_zone = mae_all[2::3]"
   ]
  },
  {
   "cell_type": "code",
   "execution_count": null,
   "id": "cd2bbbf5",
   "metadata": {},
   "outputs": [],
   "source": [
    "import matplotlib\n",
    "import matplotlib.pyplot as plt\n",
    "\n",
    "fig, ax = plt.subplots(figsize=(7,7))\n",
    "fig.patch.set_facecolor('white')\n",
    "\n",
    "ax.hist(whole_cable, label='Whole Cable Length', lw=2, alpha = 0.7)\n",
    "ax.hist(ablation_zone, label='Ablation Zone', lw=2, alpha = 0.7)\n",
    "ax.hist(accumulation_zone, label='Accumulation Zone', lw=2, alpha = 0.7)\n",
    "ax.set_ylabel('Frequency')\n",
    "ax.set_xlabel('Mean Absolute Error')\n",
    "ax.legend()"
   ]
  },
  {
   "cell_type": "code",
   "execution_count": null,
   "id": "df6bac2a",
   "metadata": {},
   "outputs": [],
   "source": []
  }
 ],
 "metadata": {
  "kernelspec": {
   "display_name": "Python 3 (ipykernel)",
   "language": "python",
   "name": "python3"
  },
  "language_info": {
   "codemirror_mode": {
    "name": "ipython",
    "version": 3
   },
   "file_extension": ".py",
   "mimetype": "text/x-python",
   "name": "python",
   "nbconvert_exporter": "python",
   "pygments_lexer": "ipython3",
   "version": "3.7.12"
  }
 },
 "nbformat": 4,
 "nbformat_minor": 5
}
