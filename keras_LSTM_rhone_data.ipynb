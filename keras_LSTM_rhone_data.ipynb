{
 "cells": [
  {
   "cell_type": "code",
   "execution_count": 48,
   "id": "cebb903b",
   "metadata": {},
   "outputs": [
    {
     "name": "stdout",
     "output_type": "stream",
     "text": [
      "Keys: <KeysViewHDF5 ['DAS Data', 'Discharge', 'Times']>\n"
     ]
    }
   ],
   "source": [
    "import h5py\n",
    "import numpy as np\n",
    "import pandas as pd\n",
    "import matplotlib.pyplot as plt\n",
    "import tensorflow as tf\n",
    "from tensorflow import keras\n",
    "from tensorflow.keras import layers\n",
    "import seaborn as sns\n",
    "\n",
    "filename = \"Rhone_data_continuous.h5\"\n",
    "f = h5py.File(filename, 'r')\n",
    "print(\"Keys: %s\" % f.keys())\n"
   ]
  },
  {
   "cell_type": "code",
   "execution_count": 133,
   "id": "15f0b9e6",
   "metadata": {},
   "outputs": [],
   "source": [
    "# LSTM / training parameters\n",
    "\n",
    "split_fraction = 0.715\n",
    "step = 2 # Sample rate (i.e., keep one in every six values)\n",
    "look_back = 720 # How far to look back in time\n",
    "learning_rate = 0.001\n",
    "batch_size = 256\n",
    "epochs = 10\n",
    "sequence_length = int(look_back / step)\n",
    "train_split = int(split_fraction * int(len(f['Discharge'])))"
   ]
  },
  {
   "cell_type": "code",
   "execution_count": 134,
   "id": "2d9924f0",
   "metadata": {},
   "outputs": [],
   "source": [
    "# dataset_all = keras.preprocessing.timeseries_dataset_from_array(\n",
    "#     f['DAS Data'],\n",
    "#     f['Discharge'],\n",
    "#     sequence_length=sequence_length,\n",
    "#     sampling_rate=step,\n",
    "#     batch_size=batch_size\n",
    "# )\n",
    "\n",
    "x = np.transpose([chan[750] for chan in f['DAS Data']])\n",
    "y = f['Discharge']\n",
    "\n",
    "# Normalize by hand because LSTM normalization layers are complicated!\n",
    "\n",
    "x_mean = np.mean( x[:train_split], axis=0 )\n",
    "x_std  = np.std(  x[:train_split], axis=0 )\n",
    "\n",
    "y_mean = np.mean( y[:train_split] )\n",
    "y_std  = np.std(  y[:train_split] )\n",
    "\n",
    "x_train = (x[0:train_split-1,] - x_mean)/x_std\n",
    "#x_train = (x[0:train_split-1,:] - x_mean)/x_std\n",
    "y_train = (y[0:train_split-1] - y_mean)/y_std\n",
    "\n",
    "x_val = (x[train_split:] - x_mean)/x_std\n",
    "y_val = (y[train_split:] - y_mean)/y_std\n",
    "\n",
    "x_train = x_train.reshape(len(x_train), 1)\n",
    "x_val  = x_val.reshape(len(x_val), 1)\n",
    "y_train = y_train.reshape(len(y_train), 1)\n",
    "y_val = y_val.reshape(len(y_val), 1)\n",
    "\n",
    "dataset_train = keras.preprocessing.timeseries_dataset_from_array(\n",
    "    x_train,y_train,\n",
    "    sequence_length=sequence_length,\n",
    "    sampling_rate=step,\n",
    "    batch_size=batch_size\n",
    ")\n",
    "\n",
    "dataset_val = keras.preprocessing.timeseries_dataset_from_array(\n",
    "    x_val,y_val,\n",
    "    sequence_length=sequence_length,\n",
    "    sampling_rate=step,\n",
    "    batch_size=batch_size\n",
    ")"
   ]
  },
  {
   "cell_type": "code",
   "execution_count": 135,
   "id": "ce66604e",
   "metadata": {},
   "outputs": [],
   "source": [
    "# def get_dataset_partitions_tf(ds, ds_size, train_split=0.8, val_split=0.1, test_split=0.1, shuffle=True, shuffle_size=10000):\n",
    "#     assert (train_split + test_split + val_split) == 1\n",
    "# #https://towardsdatascience.com/how-to-split-a-tensorflow-dataset-into-train-validation-and-test-sets-526c8dd29438    \n",
    "#     if shuffle:\n",
    "#         # Specify seed to always have the same split distribution between runs\n",
    "#         ds = ds.shuffle(shuffle_size, seed=12)\n",
    "    \n",
    "#     train_size = int(train_split * ds_size)\n",
    "#     val_size = int(val_split * ds_size)\n",
    "    \n",
    "#     train_ds = ds.take(train_size)    \n",
    "#     val_ds = ds.skip(train_size).take(val_size)\n",
    "#     test_ds = ds.skip(train_size).skip(val_size)\n",
    "    \n",
    "#     return train_ds, val_ds, test_ds"
   ]
  },
  {
   "cell_type": "code",
   "execution_count": 136,
   "id": "20ef66cc",
   "metadata": {},
   "outputs": [],
   "source": [
    "# dataset_train, dataset_val, dataset_test = get_dataset_partitions_tf(dataset_all, len(f))"
   ]
  },
  {
   "cell_type": "code",
   "execution_count": 137,
   "id": "fc8657a1",
   "metadata": {},
   "outputs": [
    {
     "name": "stdout",
     "output_type": "stream",
     "text": [
      "Input shape: (256, 360, 1)\n",
      "Target shape: (256, 1)\n"
     ]
    }
   ],
   "source": [
    "for batch in dataset_train.take(1):\n",
    "    inputs, targets = batch\n",
    "\n",
    "print(\"Input shape:\", inputs.numpy().shape)\n",
    "print(\"Target shape:\", targets.numpy().shape)"
   ]
  },
  {
   "cell_type": "code",
   "execution_count": 138,
   "id": "2bf2391b",
   "metadata": {},
   "outputs": [],
   "source": [
    "model = keras.Sequential([\n",
    "    layers.LSTM(32),\n",
    "    layers.Dense(1)\n",
    "])\n",
    "\n",
    "\n",
    "model.compile(optimizer=keras.optimizers.Adam(learning_rate=learning_rate), loss=\"mse\")"
   ]
  },
  {
   "cell_type": "code",
   "execution_count": 139,
   "id": "caea1e3c",
   "metadata": {},
   "outputs": [
    {
     "name": "stdout",
     "output_type": "stream",
     "text": [
      "Epoch 1/10\n",
      "173/173 [==============================] - 37s 209ms/step - loss: 0.9526 - val_loss: 4.0687\n",
      "\n",
      "Epoch 00001: loss improved from inf to 0.95262, saving model to model_checkpoint.h5\n",
      "Epoch 2/10\n",
      "173/173 [==============================] - 36s 207ms/step - loss: 0.9515 - val_loss: 4.2017\n",
      "\n",
      "Epoch 00002: loss improved from 0.95262 to 0.95154, saving model to model_checkpoint.h5\n",
      "Epoch 3/10\n",
      "173/173 [==============================] - 35s 201ms/step - loss: 0.9376 - val_loss: 4.2118\n",
      "\n",
      "Epoch 00003: loss improved from 0.95154 to 0.93760, saving model to model_checkpoint.h5\n",
      "Epoch 4/10\n",
      "173/173 [==============================] - 33s 191ms/step - loss: 0.9317 - val_loss: 4.2315\n",
      "\n",
      "Epoch 00004: loss improved from 0.93760 to 0.93173, saving model to model_checkpoint.h5\n",
      "Epoch 5/10\n",
      "173/173 [==============================] - 33s 188ms/step - loss: 0.9276 - val_loss: 4.2339\n",
      "\n",
      "Epoch 00005: loss improved from 0.93173 to 0.92760, saving model to model_checkpoint.h5\n",
      "Epoch 6/10\n",
      "173/173 [==============================] - 32s 186ms/step - loss: 0.9252 - val_loss: 4.2393\n",
      "\n",
      "Epoch 00006: loss improved from 0.92760 to 0.92524, saving model to model_checkpoint.h5\n",
      "Epoch 7/10\n",
      "173/173 [==============================] - 33s 190ms/step - loss: 0.9236 - val_loss: 4.2525\n",
      "\n",
      "Epoch 00007: loss improved from 0.92524 to 0.92357, saving model to model_checkpoint.h5\n",
      "Epoch 8/10\n",
      "173/173 [==============================] - 34s 198ms/step - loss: 0.9216 - val_loss: 4.2565\n",
      "\n",
      "Epoch 00008: loss improved from 0.92357 to 0.92161, saving model to model_checkpoint.h5\n",
      "Epoch 9/10\n",
      "173/173 [==============================] - 33s 192ms/step - loss: 0.9205 - val_loss: 4.2630\n",
      "\n",
      "Epoch 00009: loss improved from 0.92161 to 0.92051, saving model to model_checkpoint.h5\n",
      "Epoch 10/10\n",
      "173/173 [==============================] - 36s 207ms/step - loss: 0.9192 - val_loss: 4.2584\n",
      "\n",
      "Epoch 00010: loss improved from 0.92051 to 0.91916, saving model to model_checkpoint.h5\n"
     ]
    }
   ],
   "source": [
    "path_checkpoint = \"model_checkpoint.h5\"\n",
    "es_callback = keras.callbacks.EarlyStopping(monitor=\"loss\", min_delta=0, patience=5)\n",
    "\n",
    "modelckpt_callback = keras.callbacks.ModelCheckpoint(\n",
    "    monitor=\"loss\",\n",
    "    filepath=path_checkpoint,\n",
    "    verbose=1,\n",
    "    save_weights_only=True,\n",
    "    save_best_only=True,\n",
    ")\n",
    "\n",
    "history = model.fit(\n",
    "    dataset_train,\n",
    "    epochs=epochs,\n",
    "    validation_data=dataset_val,\n",
    "    callbacks=[es_callback, modelckpt_callback],\n",
    ")"
   ]
  },
  {
   "cell_type": "code",
   "execution_count": 146,
   "id": "071b0242",
   "metadata": {},
   "outputs": [
    {
     "data": {
      "text/plain": [
       "Text(0, 0.5, 'Model Discharge')"
      ]
     },
     "execution_count": 146,
     "metadata": {},
     "output_type": "execute_result"
    },
    {
     "data": {
      "image/png": "[encoded data removed]",
      "text/plain": [
       "<Figure size 432x288 with 1 Axes>"
      ]
     },
     "metadata": {
      "needs_background": "light"
     },
     "output_type": "display_data"
    }
   ],
   "source": [
    "plt.subplots()\n",
    "for xx, yy in dataset_val.take(len(dataset_val)):\n",
    "    plt.plot(yy*y_std+y_mean,model.predict(xx)*y_std+y_mean,'ok')\n",
    "plt.plot((5,20),(5,20))\n",
    "plt.xlabel('True Discharge')\n",
    "plt.ylabel('Model Discharge')"
   ]
  }
 ],
 "metadata": {
  "kernelspec": {
   "display_name": "Python 3",
   "language": "python",
   "name": "python3"
  },
  "language_info": {
   "codemirror_mode": {
    "name": "ipython",
    "version": 3
   },
   "file_extension": ".py",
   "mimetype": "text/x-python",
   "name": "python",
   "nbconvert_exporter": "python",
   "pygments_lexer": "ipython3",
   "version": "3.9.2"
  }
 },
 "nbformat": 4,
 "nbformat_minor": 5
}
