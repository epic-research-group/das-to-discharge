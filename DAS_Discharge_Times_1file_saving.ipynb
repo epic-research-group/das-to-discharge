{
 "cells": [
  {
   "cell_type": "code",
   "execution_count": 5,
   "id": "1ef8b263",
   "metadata": {},
   "outputs": [],
   "source": [
    "import pickle\n",
    "import matplotlib.pyplot as plt\n",
    "import matplotlib.dates as mdates\n",
    "from datetime import datetime\n",
    "import numpy as np\n",
    "import pandas as pd\n",
    "import h5py"
   ]
  },
  {
   "cell_type": "code",
   "execution_count": null,
   "id": "ae4cbf0e",
   "metadata": {},
   "outputs": [],
   "source": []
  },
  {
   "cell_type": "code",
   "execution_count": 6,
   "id": "cb9026fb",
   "metadata": {},
   "outputs": [],
   "source": [
    "with open('/home/jmanos/notebooks/Non_filtered_rhone_v2/all_rms_nofilt_1file.pkl', 'rb') as f:\n",
    "    data = pickle.load(f)\n",
    "\n",
    "data_continuous = []    \n",
    "\n",
    "for i, time_period in enumerate(data):\n",
    "    \n",
    "    if i > 21565:\n",
    "        data_continuous.append(time_period[0])\n",
    "\n",
    "with open('strain_rate_times.pkl', 'rb') as f:\n",
    "    strain_times = pickle.load(f)\n",
    "\n",
    "    \n",
    "strain_times_continuous = []\n",
    "\n",
    "for i, times_strain in enumerate(strain_times):\n",
    "    if i > 21565:\n",
    "        strain_times_continuous.append(times_strain)\n",
    "        \n",
    "with open('discharge_values.pkl', 'rb') as f:\n",
    "    discharge_values = pickle.load(f)\n",
    "\n",
    "with open('discharge_times.pkl', 'rb') as f:\n",
    "    discharge_times = pickle.load(f)\n",
    "\n",
    "dt_object_dis = [datetime.strptime(time, \"%Y-%m-%dT%H:%M:%SZ\") for time in discharge_times]\n",
    "dates_dis = mdates.date2num(dt_object_dis)\n",
    "\n",
    "dt_object_strain = [datetime.strptime(date, \"%Y-%m-%dT%H:%M:%SZ\") for date in strain_times_continuous]\n",
    "dates_strain = mdates.date2num(dt_object_strain)\n",
    "\n",
    "data_continuous_formatted = np.array(data_continuous).T\n",
    "\n",
    "discharge_values_at_strain_times = []\n",
    "\n",
    "\n",
    "for strain_time in dates_strain:\n",
    "    \n",
    "    interp_dis = np.interp(strain_time, dates_dis, discharge_values)\n",
    "    discharge_values_at_strain_times.append(interp_dis)\n"
   ]
  },
  {
   "cell_type": "code",
   "execution_count": null,
   "id": "4fbf99a3",
   "metadata": {},
   "outputs": [],
   "source": []
  },
  {
   "cell_type": "code",
   "execution_count": 7,
   "id": "cd023fcb",
   "metadata": {},
   "outputs": [],
   "source": [
    "hf = h5py.File('Rhone_data_continuous_nofilt.h5', 'w')\n",
    "\n",
    "hf.create_dataset('Times', data=strain_times_continuous)\n",
    "hf.create_dataset('DAS Data', data=data_continuous)\n",
    "hf.create_dataset('Discharge', data=discharge_values_at_strain_times)\n",
    "\n",
    "hf.close()"
   ]
  },
  {
   "cell_type": "code",
   "execution_count": 10,
   "id": "f84a3174",
   "metadata": {},
   "outputs": [
    {
     "data": {
      "text/plain": [
       "<KeysViewHDF5 ['DAS Data', 'Discharge', 'Times']>"
      ]
     },
     "execution_count": 10,
     "metadata": {},
     "output_type": "execute_result"
    }
   ],
   "source": [
    "#read check\n",
    "hf = h5py.File('Rhone_data_continuous_nofilt.h5', 'r')\n",
    "hf.keys()\n"
   ]
  },
  {
   "cell_type": "code",
   "execution_count": 11,
   "id": "d8a76977",
   "metadata": {},
   "outputs": [],
   "source": [
    "hf.close()"
   ]
  },
  {
   "cell_type": "code",
   "execution_count": null,
   "id": "bc07fdd9",
   "metadata": {},
   "outputs": [],
   "source": []
  }
 ],
 "metadata": {
  "kernelspec": {
   "display_name": "Python 3",
   "language": "python",
   "name": "python3"
  },
  "language_info": {
   "codemirror_mode": {
    "name": "ipython",
    "version": 3
   },
   "file_extension": ".py",
   "mimetype": "text/x-python",
   "name": "python",
   "nbconvert_exporter": "python",
   "pygments_lexer": "ipython3",
   "version": "3.9.6"
  }
 },
 "nbformat": 4,
 "nbformat_minor": 5
}
