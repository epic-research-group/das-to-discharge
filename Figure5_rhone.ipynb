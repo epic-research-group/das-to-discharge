{
 "cells": [
  {
   "cell_type": "code",
   "execution_count": 1,
   "id": "87dd2489",
   "metadata": {},
   "outputs": [
    {
     "name": "stderr",
     "output_type": "stream",
     "text": [
      "2022-11-16 10:23:23.416982: I tensorflow/core/platform/cpu_feature_guard.cc:193] This TensorFlow binary is optimized with oneAPI Deep Neural Network Library (oneDNN) to use the following CPU instructions in performance-critical operations:  AVX2 AVX512F AVX512_VNNI FMA\n",
      "To enable them in other operations, rebuild TensorFlow with the appropriate compiler flags.\n",
      "2022-11-16 10:23:23.546942: I tensorflow/core/util/util.cc:169] oneDNN custom operations are on. You may see slightly different numerical results due to floating-point round-off errors from different computation orders. To turn them off, set the environment variable `TF_ENABLE_ONEDNN_OPTS=0`.\n",
      "2022-11-16 10:23:23.578441: E tensorflow/stream_executor/cuda/cuda_blas.cc:2981] Unable to register cuBLAS factory: Attempting to register factory for plugin cuBLAS when one has already been registered\n",
      "2022-11-16 10:23:24.152821: W tensorflow/stream_executor/platform/default/dso_loader.cc:64] Could not load dynamic library 'libnvinfer.so.7'; dlerror: libnvinfer.so.7: cannot open shared object file: No such file or directory\n",
      "2022-11-16 10:23:24.152920: W tensorflow/stream_executor/platform/default/dso_loader.cc:64] Could not load dynamic library 'libnvinfer_plugin.so.7'; dlerror: libnvinfer_plugin.so.7: cannot open shared object file: No such file or directory\n",
      "2022-11-16 10:23:24.152926: W tensorflow/compiler/tf2tensorrt/utils/py_utils.cc:38] TF-TRT Warning: Cannot dlopen some TensorRT libraries. If you would like to use Nvidia GPU with TensorRT, please make sure the missing libraries mentioned above are installed properly.\n"
     ]
    }
   ],
   "source": [
    "import numpy as np\n",
    "import tensorflow as tf\n",
    "import random\n",
    "import sys\n",
    "import eli5\n",
    "\n",
    "import d2d\n",
    "import importlib\n",
    "importlib.reload(d2d)\n",
    "import pandas as pd\n",
    "import os"
   ]
  },
  {
   "cell_type": "code",
   "execution_count": 2,
   "id": "6468eced",
   "metadata": {},
   "outputs": [],
   "source": [
    "seeds = list(np.arange(1,101,1))\n",
    "\n",
    "\n",
    "history = {}\n",
    "val_performance = {}\n",
    "performance = {}\n",
    "\n",
    "residuals = {}\n",
    "true_discharge_vals = {}"
   ]
  },
  {
   "cell_type": "code",
   "execution_count": null,
   "id": "fd0ce1a2",
   "metadata": {},
   "outputs": [],
   "source": [
    "for SEED in seeds:\n",
    "    \n",
    "    file = \"/data/fast0/datasets/Rhone_data_continuous_highpass.h5\"\n",
    "\n",
    "    filt = 'Highpass'\n",
    "\n",
    "    #window_width = [1,2,5, 200]\n",
    "    #window_width = [350, 400, 450, 500]\n",
    "    ww = 200\n",
    "    bs = 32\n",
    "\n",
    "    random.seed(SEED)\n",
    "    np.random.seed(SEED)\n",
    "    tf.random.set_seed(SEED)\n",
    "\n",
    "\n",
    "\n",
    "    linear_model, lstm_model, dnn_model, df_all_chan, das_data_all, f = d2d.import_data(filename = file)\n",
    "\n",
    "    da = df_all_chan.to_numpy()\n",
    "\n",
    "    multi_step_window_shuffled = d2d.WindowGenerator(df_all_chan,\n",
    "                                                    input_width=ww,\n",
    "                                                    label_width=1, \n",
    "                                                    shift=0,\n",
    "                                                    label_columns=['Discharge'],\n",
    "                                                    input_columns=list(np.arange(0,2308,1)),\n",
    "                                                    shuffle=True,\n",
    "                                                    batch_size=bs)\n",
    "    print(\"Fold number: \"+str(SEED))\n",
    "    \n",
    "    history['lstm_'+str(ww)+'_'+filt+'_Fold:'+str(SEED)] = d2d.compile_and_fit(lstm_model, multi_step_window_shuffled, learning_rate = 0.001)\n",
    "\n",
    "    val_performance['lstm_'+str(ww)+'_'+filt+'_Fold:'+str(SEED)] = lstm_model.evaluate(multi_step_window_shuffled.val)\n",
    "    performance['lstm_'+str(ww)+'_'+filt+'_Fold:'+str(SEED)] = lstm_model.evaluate(multi_step_window_shuffled.test, verbose=0)\n",
    "    \n",
    "    pred_on_test = lstm_model.predict(multi_step_window_shuffled.test).squeeze()\n",
    "    pred_on_test = np.asarray(pred_on_test)\n",
    "    #pred_on_test = pred_on_test[:,-1]\n",
    "    predictions_test = (pred_on_test * multi_step_window_shuffled.dis_std) + multi_step_window_shuffled.dis_mean\n",
    "    \n",
    "    test_true_dis = []\n",
    "\n",
    "    for i in multi_step_window_shuffled.test.as_numpy_iterator():\n",
    "        test_true_dis.append(i[1])\n",
    "\n",
    "    test_true_dis = (test_true_dis[0].squeeze() * multi_step_window_shuffled.dis_std) + multi_step_window_shuffled.dis_mean\n",
    "    \n",
    "    residuals['Run ' + str(SEED)] = predictions_test - test_true_dis\n",
    "    true_discharge_vals['Run ' + str(SEED)] = test_true_dis"
   ]
  },
  {
   "cell_type": "code",
   "execution_count": null,
   "id": "49bbb99c",
   "metadata": {},
   "outputs": [],
   "source": [
    "trueD = []\n",
    "resD = []\n",
    "\n",
    "for i, j in zip(residuals.values(), true_discharge_vals.values()):\n",
    "    #ax.scatter(j , i, facecolor = 'None', edgecolor='steelblue')\n",
    "    resD.append(i)\n",
    "    trueD.append(j)"
   ]
  },
  {
   "cell_type": "code",
   "execution_count": null,
   "id": "5f25d2aa",
   "metadata": {},
   "outputs": [],
   "source": [
    "trueD = np.asarray(trueD)\n",
    "resD = np.asarray(resD)\n",
    "trueD = np.reshape(trueD, trueD.shape[0]*trueD.shape[1])\n",
    "resD = np.reshape(resD, resD.shape[0]*resD.shape[1])"
   ]
  },
  {
   "cell_type": "code",
   "execution_count": null,
   "id": "64f74c6e",
   "metadata": {},
   "outputs": [],
   "source": [
    "fig, ax = plt.subplots(figsize = (10,8))\n",
    "fig.patch.set_facecolor('white')\n",
    "\n",
    "c = ax.hist2d(trueD, resD, bins=[18,18])\n",
    "ax.set_ylabel('Residual (m$^3$/s)', size = 12)\n",
    "ax.set_xlabel('True Discharge (m$^3$/s)', size = 12)\n",
    "ax.grid()\n",
    "\n",
    "cbar = fig.colorbar(c[3], ax=ax)\n",
    "cbar.set_label('Count', rotation=270)\n",
    "\n",
    "#fig.savefig('LSTM_bootstrap_testSet_heatmap.eps')\n",
    "plt.show()"
   ]
  },
  {
   "cell_type": "code",
   "execution_count": null,
   "id": "c7df2d88",
   "metadata": {},
   "outputs": [],
   "source": []
  },
  {
   "cell_type": "code",
   "execution_count": null,
   "id": "db27db32",
   "metadata": {},
   "outputs": [],
   "source": []
  }
 ],
 "metadata": {
  "kernelspec": {
   "display_name": "Python 3 (ipykernel)",
   "language": "python",
   "name": "python3"
  },
  "language_info": {
   "codemirror_mode": {
    "name": "ipython",
    "version": 3
   },
   "file_extension": ".py",
   "mimetype": "text/x-python",
   "name": "python",
   "nbconvert_exporter": "python",
   "pygments_lexer": "ipython3",
   "version": "3.7.12"
  }
 },
 "nbformat": 4,
 "nbformat_minor": 5
}
