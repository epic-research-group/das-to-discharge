{
 "cells": [
  {
   "cell_type": "code",
   "execution_count": 2,
   "id": "e4e521d1",
   "metadata": {},
   "outputs": [
    {
     "data": {
      "text/plain": [
       "<module 'd2d' from '/home/bradlipovsky/notebooks/das-to-discharge/d2d.py'>"
      ]
     },
     "execution_count": 2,
     "metadata": {},
     "output_type": "execute_result"
    }
   ],
   "source": [
    "import d2d\n",
    "import importlib\n",
    "importlib.reload(d2d)\n",
    "import numpy as np"
   ]
  },
  {
   "cell_type": "code",
   "execution_count": 22,
   "id": "55c5ea9c",
   "metadata": {},
   "outputs": [
    {
     "name": "stdout",
     "output_type": "stream",
     "text": [
      "Keys: <KeysViewHDF5 ['DAS Data', 'Discharge', 'Times']>\n"
     ]
    }
   ],
   "source": [
    "linear, lstm_model, dnn_model, df_all_chan,input_columns  = d2d.import_data()\n",
    "\n",
    "da = df_all_chan.to_numpy()\n",
    "\n",
    "chan_mean = da[:,0:2495].flatten().mean()\n",
    "chan_std = da[:,0:2495].flatten().std()\n",
    "discharge_mean = da[:,2496].flatten().mean()\n",
    "discharge_std = da[:,2496].flatten().std()\n",
    "\n",
    "da[:,0:2495] = (da[:,0:2495] - chan_mean) / chan_std\n",
    "da[:,2496] = (da[:,2496] - discharge_mean) / discharge_std"
   ]
  },
  {
   "cell_type": "code",
   "execution_count": 23,
   "id": "0938aeff",
   "metadata": {},
   "outputs": [],
   "source": [
    "window_input_width = 200\n",
    "multi_step_window = d2d.WindowGenerator(df_all_chan,\n",
    "    input_width=window_input_width, label_width=1, shift=0,\n",
    "    label_columns=['Discharge'],\n",
    "    input_columns=input_columns)"
   ]
  },
  {
   "cell_type": "code",
   "execution_count": null,
   "id": "04134994",
   "metadata": {},
   "outputs": [
    {
     "name": "stdout",
     "output_type": "stream",
     "text": [
      "Epoch 1/20\n",
      "782/782 [==============================] - 105s 133ms/step - loss: 4.5823 - mean_absolute_error: 1.3503 - val_loss: 32.1266 - val_mean_absolute_error: 4.9378\n",
      "Epoch 2/20\n",
      "782/782 [==============================] - 121s 152ms/step - loss: 3.5730 - mean_absolute_error: 1.3911 - val_loss: 6.6029 - val_mean_absolute_error: 2.1303\n",
      "Epoch 3/20\n",
      "782/782 [==============================] - 81s 103ms/step - loss: 1.9980 - mean_absolute_error: 1.0928 - val_loss: 6.6721 - val_mean_absolute_error: 2.1149\n",
      "Epoch 4/20\n",
      "782/782 [==============================] - 85s 105ms/step - loss: 2.3234 - mean_absolute_error: 1.1635 - val_loss: 7.8461 - val_mean_absolute_error: 2.3217\n",
      "Epoch 5/20\n",
      "590/782 [=====================>........] - ETA: 8s - loss: 2.5511 - mean_absolute_error: 1.2308"
     ]
    }
   ],
   "source": [
    "history = d2d.compile_and_fit(linear, multi_step_window, learning_rate = 0.001)"
   ]
  },
  {
   "cell_type": "code",
   "execution_count": null,
   "id": "3e862f0e",
   "metadata": {},
   "outputs": [],
   "source": [
    "val_performance = this_model.evaluate(multi_step_window.val)\n",
    "performance = this_model.evaluate(multi_step_window.test, verbose=0)\n"
   ]
  },
  {
   "cell_type": "code",
   "execution_count": null,
   "id": "602b5188",
   "metadata": {},
   "outputs": [],
   "source": []
  },
  {
   "cell_type": "code",
   "execution_count": null,
   "id": "963bc209",
   "metadata": {},
   "outputs": [],
   "source": []
  },
  {
   "cell_type": "code",
   "execution_count": null,
   "id": "a9632f2c",
   "metadata": {},
   "outputs": [],
   "source": []
  },
  {
   "cell_type": "code",
   "execution_count": null,
   "id": "061dff30",
   "metadata": {},
   "outputs": [],
   "source": []
  }
 ],
 "metadata": {
  "kernelspec": {
   "display_name": "Python 3",
   "language": "python",
   "name": "python3"
  },
  "language_info": {
   "codemirror_mode": {
    "name": "ipython",
    "version": 3
   },
   "file_extension": ".py",
   "mimetype": "text/x-python",
   "name": "python",
   "nbconvert_exporter": "python",
   "pygments_lexer": "ipython3",
   "version": "3.9.2"
  }
 },
 "nbformat": 4,
 "nbformat_minor": 5
}
