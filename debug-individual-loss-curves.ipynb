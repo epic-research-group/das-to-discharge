{
 "cells": [
  {
   "cell_type": "code",
   "execution_count": 5,
   "id": "999b2df4",
   "metadata": {},
   "outputs": [
    {
     "name": "stdout",
     "output_type": "stream",
     "text": [
      "Keys: <KeysViewHDF5 ['DAS Data', 'Discharge', 'Times']>\n",
      "Epoch 1/20\n",
      "1643/1643 [==============================] - 163s 99ms/step - loss: 0.0519 - mean_absolute_error: 0.1439 - val_loss: 0.3038 - val_mean_absolute_error: 0.4068\n",
      "Epoch 2/20\n",
      "1643/1643 [==============================] - 163s 99ms/step - loss: 0.0106 - mean_absolute_error: 0.0742 - val_loss: 0.3447 - val_mean_absolute_error: 0.4437\n",
      "Epoch 3/20\n",
      "1643/1643 [==============================] - 165s 100ms/step - loss: 0.0101 - mean_absolute_error: 0.0707 - val_loss: 0.2717 - val_mean_absolute_error: 0.3869\n",
      "Epoch 4/20\n",
      "1643/1643 [==============================] - 170s 103ms/step - loss: 0.0110 - mean_absolute_error: 0.0730 - val_loss: 0.3789 - val_mean_absolute_error: 0.4567\n",
      "Epoch 5/20\n",
      "1643/1643 [==============================] - 172s 104ms/step - loss: 0.0062 - mean_absolute_error: 0.0567 - val_loss: 0.5002 - val_mean_absolute_error: 0.5325\n",
      "Epoch 6/20\n",
      "1643/1643 [==============================] - 169s 103ms/step - loss: 0.0068 - mean_absolute_error: 0.0591 - val_loss: 0.4699 - val_mean_absolute_error: 0.5236\n",
      "Epoch 7/20\n",
      "1643/1643 [==============================] - 171s 104ms/step - loss: 0.0055 - mean_absolute_error: 0.0527 - val_loss: 0.5396 - val_mean_absolute_error: 0.5378\n",
      "Epoch 8/20\n",
      "1643/1643 [==============================] - 173s 105ms/step - loss: 0.0049 - mean_absolute_error: 0.0499 - val_loss: 0.6184 - val_mean_absolute_error: 0.5820\n"
     ]
    },
    {
     "ename": "NameError",
     "evalue": "name 'name' is not defined",
     "output_type": "error",
     "traceback": [
      "\u001b[0;31m---------------------------------------------------------------------------\u001b[0m",
      "\u001b[0;31mNameError\u001b[0m                                 Traceback (most recent call last)",
      "\u001b[0;32m<ipython-input-5-45e0bdc88e4d>\u001b[0m in \u001b[0;36m<module>\u001b[0;34m\u001b[0m\n\u001b[1;32m     19\u001b[0m '''\n\u001b[1;32m     20\u001b[0m \u001b[0mval_performance\u001b[0m\u001b[0;34m,\u001b[0m \u001b[0mperformance\u001b[0m\u001b[0;34m,\u001b[0m \u001b[0mhistory\u001b[0m\u001b[0;34m,\u001b[0m \u001b[0mhistory_dict\u001b[0m\u001b[0;31m \u001b[0m\u001b[0;31m\\\u001b[0m\u001b[0;34m\u001b[0m\u001b[0;34m\u001b[0m\u001b[0m\n\u001b[0;32m---> 21\u001b[0;31m     \u001b[0;34m=\u001b[0m \u001b[0mk_fold\u001b[0m\u001b[0;34m(\u001b[0m\u001b[0mn\u001b[0m\u001b[0;34m,\u001b[0m\u001b[0mnames\u001b[0m\u001b[0;34m,\u001b[0m\u001b[0mmodels\u001b[0m\u001b[0;34m,\u001b[0m\u001b[0mdf_all_chan\u001b[0m\u001b[0;34m,\u001b[0m\u001b[0minput_columns\u001b[0m\u001b[0;34m,\u001b[0m\u001b[0mearly_stop\u001b[0m\u001b[0;34m=\u001b[0m\u001b[0;36m1\u001b[0m\u001b[0;34m)\u001b[0m\u001b[0;34m\u001b[0m\u001b[0;34m\u001b[0m\u001b[0m\n\u001b[0m",
      "\u001b[0;32m~/notebooks/das-to-discharge/d2d.py\u001b[0m in \u001b[0;36mk_fold\u001b[0;34m(n, names, models, data, input_columns, early_stop)\u001b[0m\n\u001b[1;32m    171\u001b[0m         \u001b[0;32mfor\u001b[0m \u001b[0mthis_name\u001b[0m\u001b[0;34m,\u001b[0m\u001b[0mthis_model\u001b[0m \u001b[0;32min\u001b[0m \u001b[0mzip\u001b[0m\u001b[0;34m(\u001b[0m\u001b[0mnames\u001b[0m\u001b[0;34m,\u001b[0m\u001b[0mmodels\u001b[0m\u001b[0;34m)\u001b[0m\u001b[0;34m:\u001b[0m\u001b[0;34m\u001b[0m\u001b[0;34m\u001b[0m\u001b[0m\n\u001b[1;32m    172\u001b[0m \u001b[0;34m\u001b[0m\u001b[0m\n\u001b[0;32m--> 173\u001b[0;31m             \u001b[0mhistory\u001b[0m\u001b[0;34m[\u001b[0m\u001b[0mnames\u001b[0m\u001b[0;34m+\u001b[0m\u001b[0mstr\u001b[0m\u001b[0;34m(\u001b[0m\u001b[0mk\u001b[0m\u001b[0;34m)\u001b[0m\u001b[0;34m]\u001b[0m \u001b[0;34m=\u001b[0m \u001b[0mcompile_and_fit\u001b[0m\u001b[0;34m(\u001b[0m\u001b[0mthis_model\u001b[0m\u001b[0;34m,\u001b[0m \u001b[0mmulti_step_window\u001b[0m\u001b[0;34m)\u001b[0m\u001b[0;34m\u001b[0m\u001b[0;34m\u001b[0m\u001b[0m\n\u001b[0m\u001b[1;32m    174\u001b[0m             \u001b[0mval_performance\u001b[0m\u001b[0;34m[\u001b[0m\u001b[0mnames\u001b[0m \u001b[0;34m+\u001b[0m\u001b[0;34m'_fold'\u001b[0m \u001b[0;34m+\u001b[0m \u001b[0mstr\u001b[0m\u001b[0;34m(\u001b[0m\u001b[0mk\u001b[0m\u001b[0;34m)\u001b[0m\u001b[0;34m]\u001b[0m \u001b[0;34m=\u001b[0m \u001b[0mlinear\u001b[0m\u001b[0;34m.\u001b[0m\u001b[0mevaluate\u001b[0m\u001b[0;34m(\u001b[0m\u001b[0mmulti_step_window\u001b[0m\u001b[0;34m.\u001b[0m\u001b[0mval\u001b[0m\u001b[0;34m)\u001b[0m\u001b[0;34m\u001b[0m\u001b[0;34m\u001b[0m\u001b[0m\n\u001b[1;32m    175\u001b[0m             performance[names + '_fold' + str(k)] = linear.evaluate(multi_step_window.test, \n",
      "\u001b[0;31mNameError\u001b[0m: name 'name' is not defined"
     ]
    }
   ],
   "source": [
    "import numpy as np\n",
    "import tensorflow as tf\n",
    "from tensorflow import keras\n",
    "from d2d import *\n",
    "from datetime import datetime\n",
    "import pickle as pkl\n",
    "import json\n",
    "\n",
    "n = 10000  # The number of training examples to include in one fold.\n",
    "\n",
    "# Load the model definitions and datasets\n",
    "linear, lstm_model, dnn_model, df_all_chan,input_columns  = import_data()\n",
    "# names = ('Multistep_Linear','Multistep_DNN','Multistep_LSTM')\n",
    "names = ('Multistep_LSTM')\n",
    "models = [lstm_model]\n",
    "\n",
    "'''\n",
    "Run the analysis\n",
    "'''\n",
    "val_performance, performance, history, history_dict \\\n",
    "    = k_fold(n,names,models,df_all_chan,input_columns,early_stop=1)\n"
   ]
  },
  {
   "cell_type": "markdown",
   "id": "da21b8ff",
   "metadata": {},
   "source": [
    "# Goal is to debug \"Why are the loss curves so bad\"\n",
    "\n",
    "What is the effect of:\n",
    "1. Learning rate\n",
    "2. Number of epochs / batch size\n",
    "3. Network architecture: number of layers, addition of dropout layers?\n",
    "4. probably more things..."
   ]
  },
  {
   "cell_type": "markdown",
   "id": "52b39fd8",
   "metadata": {},
   "source": [
    "### Plotting of loss curves."
   ]
  },
  {
   "cell_type": "code",
   "execution_count": null,
   "id": "4c94788a",
   "metadata": {},
   "outputs": [],
   "source": []
  }
 ],
 "metadata": {
  "kernelspec": {
   "display_name": "Python 3",
   "language": "python",
   "name": "python3"
  },
  "language_info": {
   "codemirror_mode": {
    "name": "ipython",
    "version": 3
   },
   "file_extension": ".py",
   "mimetype": "text/x-python",
   "name": "python",
   "nbconvert_exporter": "python",
   "pygments_lexer": "ipython3",
   "version": "3.9.2"
  }
 },
 "nbformat": 4,
 "nbformat_minor": 5
}
