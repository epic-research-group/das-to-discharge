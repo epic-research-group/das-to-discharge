{
 "cells": [
  {
   "cell_type": "code",
   "execution_count": null,
   "id": "999b2df4",
   "metadata": {},
   "outputs": [
    {
     "name": "stdout",
     "output_type": "stream",
     "text": [
      "Keys: <KeysViewHDF5 ['DAS Data', 'Discharge', 'Times']>\n",
      "Epoch 1/20\n",
      " 794/1643 [=============>................] - ETA: 1:33 - loss: 0.0859 - mean_absolute_error: 0.1917"
     ]
    }
   ],
   "source": [
    "import numpy as np\n",
    "import tensorflow as tf\n",
    "from tensorflow import keras\n",
    "from d2d import *\n",
    "from datetime import datetime\n",
    "import pickle as pkl\n",
    "import json\n",
    "\n",
    "n = 10000  # The number of training examples to include in one fold.\n",
    "\n",
    "# Load the model definitions and datasets\n",
    "linear, lstm_model, dnn_model, df_all_chan,input_columns  = import_data()\n",
    "# names = ('Multistep_Linear','Multistep_DNN','Multistep_LSTM')\n",
    "names = ('Multistep_LSTM')\n",
    "models = [lstm_model]\n",
    "\n",
    "'''\n",
    "Run the analysis\n",
    "'''\n",
    "val_performance, performance, history, history_dict \\\n",
    "    = k_fold(n,names,models,df_all_chan,input_columns,early_stop=1)\n"
   ]
  },
  {
   "cell_type": "markdown",
   "id": "da21b8ff",
   "metadata": {},
   "source": [
    "# Goal is to debug \"Why are the loss curves so bad\"\n",
    "\n",
    "What is the effect of:\n",
    "1. Learning rate\n",
    "2. Number of epochs / batch size\n",
    "3. Network architecture: number of layers, addition of dropout layers?\n",
    "4. probably more things..."
   ]
  },
  {
   "cell_type": "code",
   "execution_count": null,
   "id": "9d76bb9e",
   "metadata": {},
   "outputs": [],
   "source": []
  }
 ],
 "metadata": {
  "kernelspec": {
   "display_name": "Python 3",
   "language": "python",
   "name": "python3"
  },
  "language_info": {
   "codemirror_mode": {
    "name": "ipython",
    "version": 3
   },
   "file_extension": ".py",
   "mimetype": "text/x-python",
   "name": "python",
   "nbconvert_exporter": "python",
   "pygments_lexer": "ipython3",
   "version": "3.9.2"
  }
 },
 "nbformat": 4,
 "nbformat_minor": 5
}
