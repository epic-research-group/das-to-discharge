{
 "cells": [
  {
   "cell_type": "code",
   "execution_count": 1,
   "id": "999b2df4",
   "metadata": {},
   "outputs": [],
   "source": [
    "import numpy as np\n",
    "import tensorflow as tf\n",
    "from tensorflow import keras\n",
    "\n",
    "import d2d\n",
    "import importlib\n",
    "importlib.reload(d2d)\n",
    "\n",
    "from datetime import datetime\n",
    "import pickle as pkl\n",
    "import json"
   ]
  },
  {
   "cell_type": "code",
   "execution_count": null,
   "id": "93317275",
   "metadata": {},
   "outputs": [
    {
     "name": "stdout",
     "output_type": "stream",
     "text": [
      "Keys: <KeysViewHDF5 ['DAS Data', 'Discharge', 'Times']>\n",
      "Epoch 1/20\n",
      "1643/1643 [==============================] - 63s 38ms/step - loss: 0.2370 - mean_absolute_error: 0.3657 - val_loss: 0.4158 - val_mean_absolute_error: 0.5049\n",
      "Epoch 2/20\n",
      "1643/1643 [==============================] - 59s 36ms/step - loss: 0.1491 - mean_absolute_error: 0.2887 - val_loss: 0.4044 - val_mean_absolute_error: 0.4885\n",
      "Epoch 3/20\n",
      " 908/1643 [===============>..............] - ETA: 20s - loss: 0.1519 - mean_absolute_error: 0.2862"
     ]
    }
   ],
   "source": [
    "n = 10000  # The number of training examples to include in one fold.\n",
    "\n",
    "# Load the model definitions and datasets\n",
    "linear_model, lstm_model, dnn_model, df_all_chan,input_columns  = d2d.import_data()\n",
    "# names = ('Multistep_Linear','Multistep_DNN','Multistep_LSTM')\n",
    "names = ('Multistep_Linear')\n",
    "models = [linear_model]\n",
    "\n",
    "'''\n",
    "Run the analysis\n",
    "'''\n",
    "val_performance, performance, history, history_dict \\\n",
    "    = d2d.k_fold(n,names,models,df_all_chan,input_columns,early_stop=1)\n"
   ]
  },
  {
   "cell_type": "markdown",
   "id": "da21b8ff",
   "metadata": {},
   "source": [
    "# Goal is to debug \"Why are the loss curves so bad\"\n",
    "\n",
    "What is the effect of:\n",
    "1. Learning rate\n",
    "2. Number of epochs / batch size\n",
    "3. Network architecture: number of layers, addition of dropout layers?\n",
    "4. probably more things..."
   ]
  },
  {
   "cell_type": "markdown",
   "id": "52b39fd8",
   "metadata": {},
   "source": [
    "### Plotting of loss curves."
   ]
  },
  {
   "cell_type": "code",
   "execution_count": null,
   "id": "4c94788a",
   "metadata": {},
   "outputs": [],
   "source": []
  }
 ],
 "metadata": {
  "kernelspec": {
   "display_name": "Python 3",
   "language": "python",
   "name": "python3"
  },
  "language_info": {
   "codemirror_mode": {
    "name": "ipython",
    "version": 3
   },
   "file_extension": ".py",
   "mimetype": "text/x-python",
   "name": "python",
   "nbconvert_exporter": "python",
   "pygments_lexer": "ipython3",
   "version": "3.9.2"
  }
 },
 "nbformat": 4,
 "nbformat_minor": 5
}
