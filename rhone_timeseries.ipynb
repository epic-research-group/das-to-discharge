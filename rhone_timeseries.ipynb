{
 "cells": [
  {
   "cell_type": "code",
   "execution_count": 86,
   "id": "cebb903b",
   "metadata": {},
   "outputs": [
    {
     "name": "stdout",
     "output_type": "stream",
     "text": [
      "Keys: <KeysViewHDF5 ['DAS Data', 'Discharge', 'Times']>\n"
     ]
    }
   ],
   "source": [
    "import h5py\n",
    "import numpy as np\n",
    "import pandas as pd\n",
    "import matplotlib.pyplot as plt\n",
    "import tensorflow as tf\n",
    "from tensorflow import keras\n",
    "from tensorflow.keras import layers\n",
    "import seaborn as sns\n",
    "from d2d import *\n",
    "\n",
    "\n",
    "filename = \"/data/fast0/datasets/Rhone_data_continuous.h5\"\n",
    "f = h5py.File(filename, 'r')\n",
    "print(\"Keys: %s\" % f.keys())"
   ]
  },
  {
   "cell_type": "code",
   "execution_count": 87,
   "id": "8ee6eb39",
   "metadata": {},
   "outputs": [],
   "source": [
    "# # Put data in a data frame\n",
    "# das = np.transpose([chan[750] for chan in f['DAS Data']])\n",
    "\n",
    "# # Might want to try this later:\n",
    "# # das = np.log10(np.transpose([chan[750] for chan in f['DAS Data']]))\n",
    "\n",
    "# discharge = np.array(f['Discharge'])\n",
    "# df = pd.DataFrame(data={'das':das,'discharge':discharge})"
   ]
  },
  {
   "cell_type": "code",
   "execution_count": 88,
   "id": "c34767c2",
   "metadata": {},
   "outputs": [
    {
     "data": {
      "text/html": [
       "<div>\n",
       "<style scoped>\n",
       "    .dataframe tbody tr th:only-of-type {\n",
       "        vertical-align: middle;\n",
       "    }\n",
       "\n",
       "    .dataframe tbody tr th {\n",
       "        vertical-align: top;\n",
       "    }\n",
       "\n",
       "    .dataframe thead th {\n",
       "        text-align: right;\n",
       "    }\n",
       "</style>\n",
       "<table border=\"1\" class=\"dataframe\">\n",
       "  <thead>\n",
       "    <tr style=\"text-align: right;\">\n",
       "      <th></th>\n",
       "      <th>0</th>\n",
       "      <th>1</th>\n",
       "      <th>2</th>\n",
       "      <th>3</th>\n",
       "      <th>4</th>\n",
       "      <th>5</th>\n",
       "      <th>6</th>\n",
       "      <th>7</th>\n",
       "      <th>8</th>\n",
       "      <th>9</th>\n",
       "      <th>...</th>\n",
       "      <th>2487</th>\n",
       "      <th>2488</th>\n",
       "      <th>2489</th>\n",
       "      <th>2490</th>\n",
       "      <th>2491</th>\n",
       "      <th>2492</th>\n",
       "      <th>2493</th>\n",
       "      <th>2494</th>\n",
       "      <th>2495</th>\n",
       "      <th>Discharge</th>\n",
       "    </tr>\n",
       "  </thead>\n",
       "  <tbody>\n",
       "    <tr>\n",
       "      <th>0</th>\n",
       "      <td>1737.318436</td>\n",
       "      <td>1932.321258</td>\n",
       "      <td>1788.269101</td>\n",
       "      <td>3706.977556</td>\n",
       "      <td>1831.756626</td>\n",
       "      <td>1768.674227</td>\n",
       "      <td>1908.850695</td>\n",
       "      <td>3690.341997</td>\n",
       "      <td>1804.145150</td>\n",
       "      <td>2437.436803</td>\n",
       "      <td>...</td>\n",
       "      <td>3603.932847</td>\n",
       "      <td>2066.070800</td>\n",
       "      <td>2215.669390</td>\n",
       "      <td>1881.772352</td>\n",
       "      <td>3990.883595</td>\n",
       "      <td>1584.965970</td>\n",
       "      <td>1787.281257</td>\n",
       "      <td>1862.912440</td>\n",
       "      <td>4160.545583</td>\n",
       "      <td>9.947179</td>\n",
       "    </tr>\n",
       "    <tr>\n",
       "      <th>1</th>\n",
       "      <td>8161.349279</td>\n",
       "      <td>8245.783723</td>\n",
       "      <td>8118.189935</td>\n",
       "      <td>528.834231</td>\n",
       "      <td>468.890511</td>\n",
       "      <td>714.714310</td>\n",
       "      <td>728.051775</td>\n",
       "      <td>158.440806</td>\n",
       "      <td>82.719811</td>\n",
       "      <td>116.949415</td>\n",
       "      <td>...</td>\n",
       "      <td>8238.452283</td>\n",
       "      <td>8204.901437</td>\n",
       "      <td>8194.671705</td>\n",
       "      <td>8228.769841</td>\n",
       "      <td>8211.066134</td>\n",
       "      <td>8229.370787</td>\n",
       "      <td>8218.436955</td>\n",
       "      <td>8210.143402</td>\n",
       "      <td>8178.032001</td>\n",
       "      <td>9.934657</td>\n",
       "    </tr>\n",
       "    <tr>\n",
       "      <th>2</th>\n",
       "      <td>8242.942236</td>\n",
       "      <td>8205.640252</td>\n",
       "      <td>8093.980026</td>\n",
       "      <td>510.832905</td>\n",
       "      <td>451.884623</td>\n",
       "      <td>709.510655</td>\n",
       "      <td>709.932307</td>\n",
       "      <td>153.715844</td>\n",
       "      <td>83.404382</td>\n",
       "      <td>116.112236</td>\n",
       "      <td>...</td>\n",
       "      <td>8184.500407</td>\n",
       "      <td>8221.490571</td>\n",
       "      <td>8202.429647</td>\n",
       "      <td>8194.927561</td>\n",
       "      <td>8197.675324</td>\n",
       "      <td>8188.718827</td>\n",
       "      <td>8189.658071</td>\n",
       "      <td>8225.017259</td>\n",
       "      <td>8163.918322</td>\n",
       "      <td>9.929290</td>\n",
       "    </tr>\n",
       "    <tr>\n",
       "      <th>3</th>\n",
       "      <td>8159.780047</td>\n",
       "      <td>8196.654224</td>\n",
       "      <td>8113.873839</td>\n",
       "      <td>489.734947</td>\n",
       "      <td>438.657688</td>\n",
       "      <td>690.418208</td>\n",
       "      <td>701.896139</td>\n",
       "      <td>158.058233</td>\n",
       "      <td>83.003254</td>\n",
       "      <td>112.787627</td>\n",
       "      <td>...</td>\n",
       "      <td>8173.860868</td>\n",
       "      <td>8156.187127</td>\n",
       "      <td>8151.113841</td>\n",
       "      <td>8235.843141</td>\n",
       "      <td>8145.360321</td>\n",
       "      <td>8192.392266</td>\n",
       "      <td>8169.275389</td>\n",
       "      <td>8129.926491</td>\n",
       "      <td>8161.652382</td>\n",
       "      <td>9.923923</td>\n",
       "    </tr>\n",
       "    <tr>\n",
       "      <th>4</th>\n",
       "      <td>8198.498465</td>\n",
       "      <td>8161.470921</td>\n",
       "      <td>8120.452338</td>\n",
       "      <td>521.425978</td>\n",
       "      <td>444.272741</td>\n",
       "      <td>689.710217</td>\n",
       "      <td>695.164917</td>\n",
       "      <td>160.246640</td>\n",
       "      <td>84.054029</td>\n",
       "      <td>111.125592</td>\n",
       "      <td>...</td>\n",
       "      <td>8198.827286</td>\n",
       "      <td>8234.815465</td>\n",
       "      <td>8219.987333</td>\n",
       "      <td>8140.961605</td>\n",
       "      <td>8193.517740</td>\n",
       "      <td>8157.154485</td>\n",
       "      <td>8241.648596</td>\n",
       "      <td>8229.194191</td>\n",
       "      <td>8234.212679</td>\n",
       "      <td>9.918557</td>\n",
       "    </tr>\n",
       "  </tbody>\n",
       "</table>\n",
       "<p>5 rows × 2497 columns</p>\n",
       "</div>"
      ],
      "text/plain": [
       "             0            1            2            3            4  \\\n",
       "0  1737.318436  1932.321258  1788.269101  3706.977556  1831.756626   \n",
       "1  8161.349279  8245.783723  8118.189935   528.834231   468.890511   \n",
       "2  8242.942236  8205.640252  8093.980026   510.832905   451.884623   \n",
       "3  8159.780047  8196.654224  8113.873839   489.734947   438.657688   \n",
       "4  8198.498465  8161.470921  8120.452338   521.425978   444.272741   \n",
       "\n",
       "             5            6            7            8            9  ...  \\\n",
       "0  1768.674227  1908.850695  3690.341997  1804.145150  2437.436803  ...   \n",
       "1   714.714310   728.051775   158.440806    82.719811   116.949415  ...   \n",
       "2   709.510655   709.932307   153.715844    83.404382   116.112236  ...   \n",
       "3   690.418208   701.896139   158.058233    83.003254   112.787627  ...   \n",
       "4   689.710217   695.164917   160.246640    84.054029   111.125592  ...   \n",
       "\n",
       "          2487         2488         2489         2490         2491  \\\n",
       "0  3603.932847  2066.070800  2215.669390  1881.772352  3990.883595   \n",
       "1  8238.452283  8204.901437  8194.671705  8228.769841  8211.066134   \n",
       "2  8184.500407  8221.490571  8202.429647  8194.927561  8197.675324   \n",
       "3  8173.860868  8156.187127  8151.113841  8235.843141  8145.360321   \n",
       "4  8198.827286  8234.815465  8219.987333  8140.961605  8193.517740   \n",
       "\n",
       "          2492         2493         2494         2495  Discharge  \n",
       "0  1584.965970  1787.281257  1862.912440  4160.545583   9.947179  \n",
       "1  8229.370787  8218.436955  8210.143402  8178.032001   9.934657  \n",
       "2  8188.718827  8189.658071  8225.017259  8163.918322   9.929290  \n",
       "3  8192.392266  8169.275389  8129.926491  8161.652382   9.923923  \n",
       "4  8157.154485  8241.648596  8229.194191  8234.212679   9.918557  \n",
       "\n",
       "[5 rows x 2497 columns]"
      ]
     },
     "execution_count": 88,
     "metadata": {},
     "output_type": "execute_result"
    }
   ],
   "source": [
    "das_data_all = f['DAS Data'][:]\n",
    "discharge = f['Discharge'][:]\n",
    "\n",
    "df_all_chan = pd.DataFrame(das_data_all)\n",
    "df_all_chan['Discharge'] = discharge\n",
    "df_all_chan.head()"
   ]
  },
  {
   "cell_type": "code",
   "execution_count": 89,
   "id": "90cc1f9a",
   "metadata": {},
   "outputs": [],
   "source": [
    "# Plot the raw data\n",
    "\n",
    "# fig,ax=plt.subplots(figsize=(15,5))\n",
    "# ax.plot(das)\n",
    "# ax.set_ylabel('DAS-measured strain rate')\n",
    "# ax2=plt.twinx()\n",
    "# ax2.plot(discharge,'-r')\n",
    "# ax2.set_ylabel('Discharge')"
   ]
  },
  {
   "cell_type": "code",
   "execution_count": 90,
   "id": "92b58439",
   "metadata": {},
   "outputs": [],
   "source": [
    "# Split the data\n",
    "column_indices = {name: i for i, name in enumerate(df_all_chan.columns)}\n",
    "n = len(df_all_chan)\n",
    "\n",
    "train_df = df_all_chan[0:int(n*0.7)]\n",
    "val_df = df_all_chan[int(n*0.7):int(n*0.9)]\n",
    "test_df = df_all_chan[int(n*0.9):]"
   ]
  },
  {
   "cell_type": "code",
   "execution_count": 95,
   "id": "7b1cee1e",
   "metadata": {},
   "outputs": [],
   "source": [
    "input_columns = list(np.arange(0,2308,1))"
   ]
  },
  {
   "cell_type": "code",
   "execution_count": 91,
   "id": "a80e3b14",
   "metadata": {},
   "outputs": [],
   "source": [
    "# Normalize\n",
    "train_mean = train_df.mean()\n",
    "train_std = train_df.std()\n",
    "\n",
    "train_df = (train_df - train_mean) / train_std\n",
    "val_df = (val_df - train_mean) / train_std\n",
    "test_df = (test_df - train_mean) / train_std"
   ]
  },
  {
   "cell_type": "code",
   "execution_count": 97,
   "id": "675578c4",
   "metadata": {},
   "outputs": [],
   "source": [
    "# # Visualize the normalized data\n",
    "# df_std = (df_all_chan - train_mean) / train_std\n",
    "# df_std = df_std.melt(var_name='Column', value_name='Normalized')\n",
    "# plt.figure(figsize=(12, 6))\n",
    "# ax = sns.violinplot(x='Column', y='Normalized', data=df_std)\n",
    "# _ = ax.set_xticklabels(df.keys(), rotation=90)\n",
    "\n",
    "# Does not like to visulaize with all the channels applied"
   ]
  },
  {
   "cell_type": "code",
   "execution_count": 121,
   "id": "90541eb1",
   "metadata": {
    "scrolled": true
   },
   "outputs": [],
   "source": [
    "single_step_window = WindowGenerator(\n",
    "    input_width=1, label_width=1, shift=0,\n",
    "    train_df=train_df, \n",
    "    val_df=val_df, \n",
    "    test_df=test_df,\n",
    "    label_columns=['Discharge'],\n",
    "    input_columns=input_columns)"
   ]
  },
  {
   "cell_type": "code",
   "execution_count": 99,
   "id": "fd1c7493",
   "metadata": {},
   "outputs": [],
   "source": [
    "linear = tf.keras.Sequential([\n",
    "    tf.keras.layers.Dense(1)\n",
    "])\n",
    "\n",
    "lstm_model = tf.keras.models.Sequential([\n",
    "    # Shape [batch, time, features] => [batch, time, lstm_units]\n",
    "    tf.keras.layers.LSTM(32, return_sequences=True),\n",
    "    # Shape => [batch, time, features]\n",
    "    tf.keras.layers.Dense(units=1)\n",
    "])\n",
    "\n",
    "dnn_model = tf.keras.models.Sequential([\n",
    "      layers.Dense(64, activation='relu'),\n",
    "      layers.Dense(64, activation='relu'),\n",
    "      layers.Dense(1)\n",
    "  ])"
   ]
  },
  {
   "cell_type": "code",
   "execution_count": 116,
   "id": "7698cc55",
   "metadata": {},
   "outputs": [],
   "source": [
    "MAX_EPOCHS = 20\n",
    "\n",
    "def compile_and_fit(model, window, patience=5):\n",
    "    early_stopping = tf.keras.callbacks.EarlyStopping(monitor='val_loss',\n",
    "                                                    patience=patience,\n",
    "                                                    mode='min')\n",
    "\n",
    "    model.compile(loss=tf.losses.MeanSquaredError(),\n",
    "                optimizer=tf.optimizers.Adam(),\n",
    "                metrics=[tf.metrics.MeanAbsoluteError()])\n",
    "\n",
    "    history = model.fit(window.train, epochs=MAX_EPOCHS,\n",
    "                      validation_data=window.val,\n",
    "                      callbacks=[early_stopping])\n",
    "    return history"
   ]
  },
  {
   "cell_type": "code",
   "execution_count": 111,
   "id": "7a397ce1",
   "metadata": {},
   "outputs": [
    {
     "name": "stdout",
     "output_type": "stream",
     "text": [
      "Epoch 1/20\n",
      "1373/1373 [==============================] - 10s 7ms/step - loss: 0.3986 - mean_absolute_error: 0.3792 - val_loss: 5.2348 - val_mean_absolute_error: 1.7179\n",
      "Epoch 2/20\n",
      "1373/1373 [==============================] - 11s 8ms/step - loss: 0.4270 - mean_absolute_error: 0.3910 - val_loss: 5.2009 - val_mean_absolute_error: 1.7071\n",
      "Epoch 3/20\n",
      "1373/1373 [==============================] - 10s 7ms/step - loss: 0.3663 - mean_absolute_error: 0.3733 - val_loss: 6.3029 - val_mean_absolute_error: 1.8459\n",
      "Epoch 4/20\n",
      "1373/1373 [==============================] - 9s 7ms/step - loss: 0.7716 - mean_absolute_error: 0.4345 - val_loss: 5.7172 - val_mean_absolute_error: 1.7914\n",
      "Epoch 5/20\n",
      "1373/1373 [==============================] - 10s 7ms/step - loss: 0.2229 - mean_absolute_error: 0.3226 - val_loss: 7.9977 - val_mean_absolute_error: 2.0835\n",
      "Epoch 6/20\n",
      "1373/1373 [==============================] - 10s 7ms/step - loss: 0.5486 - mean_absolute_error: 0.4118 - val_loss: 5.7279 - val_mean_absolute_error: 1.7897\n",
      "Epoch 7/20\n",
      "1373/1373 [==============================] - 10s 7ms/step - loss: 0.4273 - mean_absolute_error: 0.3871 - val_loss: 6.5371 - val_mean_absolute_error: 1.8967\n",
      "393/393 [==============================] - 8s 606us/step - loss: 6.5371 - mean_absolute_error: 1.8967\n"
     ]
    }
   ],
   "source": [
    "history = compile_and_fit(linear, single_step_window)\n",
    "\n",
    "val_performance={}\n",
    "performance={}\n",
    "val_performance['Linear'] = linear.evaluate(single_step_window.val)\n",
    "performance['Linear'] = linear.evaluate(single_step_window.test, verbose=0)"
   ]
  },
  {
   "cell_type": "code",
   "execution_count": 122,
   "id": "3f53875c",
   "metadata": {},
   "outputs": [],
   "source": [
    "# inputs, labels = single_step_window.example\n",
    "\n",
    "# predictions = np.array(linear(inputs)).flatten()\n",
    "# inputs = np.array(inputs).flatten()\n",
    "# labels = np.array(labels).flatten()\n",
    "\n",
    "# plt.subplots()\n",
    "# plt.plot(labels,predictions,'ok')\n",
    "# plt.plot((-1,1),(-1,1))\n",
    "# plt.xlabel('Actual Normalized Discharge')\n",
    "# plt.ylabel('Predicted Normalized Discharge')\n",
    "\n",
    "# plt.subplots()\n",
    "# plt.plot(inputs, labels,'ok')\n",
    "# # for xx, yy in single_step_window.val.take(5):\n",
    "# #     plt.plot(np.array(xx[:,0,:]).flatten(),np.array(yy).flatten(),'or')\n",
    "# plt.xlabel('Actual Normalized DAS')\n",
    "# plt.ylabel('Normalized Discharge (Actual and Modeled)')\n",
    "# weights=linear.layers[0].kernel[:,0].numpy()\n",
    "# biases=linear.layers[0].bias.numpy()\n",
    "# plt.plot((-1,3.0),weights[0]*np.array((-1,3.0))+biases[0])\n",
    "\n",
    "# # Compare to linear least squares\n",
    "# from scipy import stats\n",
    "# slope, intercept, r_value, p_value, std_err = stats.linregress(inputs,labels)\n",
    "# plt.plot((-1,3.0),slope*np.array((-1,3.0))+intercept)"
   ]
  },
  {
   "cell_type": "code",
   "execution_count": 117,
   "id": "50252ddc",
   "metadata": {},
   "outputs": [],
   "source": [
    "multi_step_window = WindowGenerator(\n",
    "    input_width=500, label_width=1, shift=0,\n",
    "    train_df=train_df, \n",
    "    val_df=val_df, \n",
    "    test_df=test_df,\n",
    "    label_columns=['Discharge'],\n",
    "    input_columns=input_columns)\n",
    "# multi_step_window"
   ]
  },
  {
   "cell_type": "markdown",
   "id": "46ad75db",
   "metadata": {},
   "source": [
    "# Multistep Model Runs"
   ]
  },
  {
   "cell_type": "code",
   "execution_count": 118,
   "id": "af21434e",
   "metadata": {},
   "outputs": [
    {
     "name": "stdout",
     "output_type": "stream",
     "text": [
      "Epoch 1/20\n",
      "1357/1357 [==============================] - 301s 221ms/step - loss: 0.1718 - mean_absolute_error: 0.3158 - val_loss: 4.8984 - val_mean_absolute_error: 1.7041\n",
      "Epoch 2/20\n",
      "1357/1357 [==============================] - 172s 127ms/step - loss: 0.1628 - mean_absolute_error: 0.3105 - val_loss: 5.3406 - val_mean_absolute_error: 1.7918\n",
      "Epoch 3/20\n",
      "1357/1357 [==============================] - 191s 140ms/step - loss: 0.1633 - mean_absolute_error: 0.3097 - val_loss: 4.9715 - val_mean_absolute_error: 1.7292\n",
      "Epoch 4/20\n",
      "1357/1357 [==============================] - 288s 212ms/step - loss: 0.1652 - mean_absolute_error: 0.3105 - val_loss: 4.1921 - val_mean_absolute_error: 1.5809\n",
      "Epoch 5/20\n",
      "1357/1357 [==============================] - 261s 192ms/step - loss: 0.1611 - mean_absolute_error: 0.3081 - val_loss: 5.9721 - val_mean_absolute_error: 1.9100\n",
      "Epoch 6/20\n",
      "1357/1357 [==============================] - 197s 145ms/step - loss: 0.1716 - mean_absolute_error: 0.3134 - val_loss: 5.3068 - val_mean_absolute_error: 1.7909\n",
      "Epoch 7/20\n",
      "1357/1357 [==============================] - 179s 132ms/step - loss: 0.1599 - mean_absolute_error: 0.3071 - val_loss: 4.6881 - val_mean_absolute_error: 1.6775\n",
      "Epoch 8/20\n",
      "1357/1357 [==============================] - 166s 122ms/step - loss: 0.1700 - mean_absolute_error: 0.3106 - val_loss: 5.1123 - val_mean_absolute_error: 1.7604\n",
      "Epoch 9/20\n",
      "1357/1357 [==============================] - 169s 124ms/step - loss: 0.1636 - mean_absolute_error: 0.3095 - val_loss: 5.1862 - val_mean_absolute_error: 1.7610\n",
      "377/377 [==============================] - 45s 94ms/step - loss: 5.1863 - mean_absolute_error: 1.7610\n"
     ]
    },
    {
     "data": {
      "text/plain": [
       "{'Linear': [5.418895244598389, 1.952818512916565],\n",
       " 'Multistep_Linear': [2.6468114852905273, 1.4173250198364258],\n",
       " 'Multistep_LSTM': [2.745037078857422, 1.4381883144378662],\n",
       " 'Multistep_DNN': [2.9065146446228027, 1.4924529790878296]}"
      ]
     },
     "execution_count": 118,
     "metadata": {},
     "output_type": "execute_result"
    }
   ],
   "source": [
    "history = compile_and_fit(linear, multi_step_window)\n",
    "\n",
    "val_performance['Multistep_Linear'] = linear.evaluate(multi_step_window.val)\n",
    "performance['Multistep_Linear'] = linear.evaluate(multi_step_window.test, verbose=0)\n",
    "performance"
   ]
  },
  {
   "cell_type": "code",
   "execution_count": 119,
   "id": "c63a3e31",
   "metadata": {},
   "outputs": [
    {
     "name": "stdout",
     "output_type": "stream",
     "text": [
      "Epoch 1/20\n",
      "1357/1357 [==============================] - 399s 293ms/step - loss: 0.0359 - mean_absolute_error: 0.1354 - val_loss: 2.2678 - val_mean_absolute_error: 1.2524\n",
      "Epoch 2/20\n",
      "1357/1357 [==============================] - 396s 292ms/step - loss: 0.0181 - mean_absolute_error: 0.0941 - val_loss: 2.4149 - val_mean_absolute_error: 1.2935\n",
      "Epoch 3/20\n",
      "1357/1357 [==============================] - 397s 292ms/step - loss: 0.0147 - mean_absolute_error: 0.0830 - val_loss: 2.9278 - val_mean_absolute_error: 1.4548\n",
      "Epoch 4/20\n",
      "1357/1357 [==============================] - 395s 290ms/step - loss: 0.0126 - mean_absolute_error: 0.0768 - val_loss: 2.4473 - val_mean_absolute_error: 1.3040\n",
      "Epoch 5/20\n",
      "1357/1357 [==============================] - 403s 297ms/step - loss: 0.0102 - mean_absolute_error: 0.0701 - val_loss: 2.2720 - val_mean_absolute_error: 1.2582\n",
      "Epoch 6/20\n",
      "1357/1357 [==============================] - 421s 310ms/step - loss: 0.0087 - mean_absolute_error: 0.0651 - val_loss: 2.2661 - val_mean_absolute_error: 1.2487\n",
      "Epoch 7/20\n",
      "1357/1357 [==============================] - 413s 304ms/step - loss: 0.0080 - mean_absolute_error: 0.0629 - val_loss: 1.9392 - val_mean_absolute_error: 1.1472\n",
      "Epoch 8/20\n",
      "1357/1357 [==============================] - 419s 309ms/step - loss: 0.0073 - mean_absolute_error: 0.0601 - val_loss: 2.3222 - val_mean_absolute_error: 1.2451\n",
      "Epoch 9/20\n",
      "1357/1357 [==============================] - 415s 306ms/step - loss: 0.0068 - mean_absolute_error: 0.0579 - val_loss: 2.3958 - val_mean_absolute_error: 1.2549\n",
      "Epoch 10/20\n",
      "1357/1357 [==============================] - 404s 298ms/step - loss: 0.0066 - mean_absolute_error: 0.0570 - val_loss: 2.1197 - val_mean_absolute_error: 1.1660\n",
      "Epoch 11/20\n",
      "1357/1357 [==============================] - 409s 301ms/step - loss: 0.0059 - mean_absolute_error: 0.0542 - val_loss: 2.0893 - val_mean_absolute_error: 1.1786\n",
      "Epoch 12/20\n",
      "1357/1357 [==============================] - 407s 300ms/step - loss: 0.0057 - mean_absolute_error: 0.0531 - val_loss: 1.9799 - val_mean_absolute_error: 1.1606\n",
      "377/377 [==============================] - 68s 158ms/step - loss: 1.9799 - mean_absolute_error: 1.1606\n"
     ]
    },
    {
     "data": {
      "text/plain": [
       "{'Linear': [5.418895244598389, 1.952818512916565],\n",
       " 'Multistep_Linear': [2.6468114852905273, 1.4173250198364258],\n",
       " 'Multistep_LSTM': [1.9776830673217773, 1.204664945602417],\n",
       " 'Multistep_DNN': [2.9065146446228027, 1.4924529790878296]}"
      ]
     },
     "execution_count": 119,
     "metadata": {},
     "output_type": "execute_result"
    }
   ],
   "source": [
    "history = compile_and_fit(lstm_model, multi_step_window)\n",
    "\n",
    "val_performance['Multistep_LSTM'] = lstm_model.evaluate(multi_step_window.val)\n",
    "performance['Multistep_LSTM'] = lstm_model.evaluate(multi_step_window.test, verbose=0)\n",
    "performance"
   ]
  },
  {
   "cell_type": "code",
   "execution_count": 120,
   "id": "ca3f2c7e",
   "metadata": {},
   "outputs": [
    {
     "name": "stdout",
     "output_type": "stream",
     "text": [
      "Epoch 1/20\n",
      "1357/1357 [==============================] - 234s 172ms/step - loss: 0.0801 - mean_absolute_error: 0.2098 - val_loss: 2.4150 - val_mean_absolute_error: 1.2906\n",
      "Epoch 2/20\n",
      "1357/1357 [==============================] - 213s 157ms/step - loss: 0.0774 - mean_absolute_error: 0.2056 - val_loss: 2.0834 - val_mean_absolute_error: 1.1949\n",
      "Epoch 3/20\n",
      "1357/1357 [==============================] - 289s 213ms/step - loss: 0.0769 - mean_absolute_error: 0.2049 - val_loss: 2.3875 - val_mean_absolute_error: 1.2775\n",
      "Epoch 4/20\n",
      "1357/1357 [==============================] - 331s 244ms/step - loss: 0.0767 - mean_absolute_error: 0.2047 - val_loss: 2.3045 - val_mean_absolute_error: 1.2531\n",
      "Epoch 5/20\n",
      "1357/1357 [==============================] - 318s 234ms/step - loss: 0.0764 - mean_absolute_error: 0.2040 - val_loss: 2.3176 - val_mean_absolute_error: 1.2606\n",
      "Epoch 6/20\n",
      "1357/1357 [==============================] - 255s 188ms/step - loss: 0.0761 - mean_absolute_error: 0.2038 - val_loss: 2.4233 - val_mean_absolute_error: 1.2926\n",
      "Epoch 7/20\n",
      "1357/1357 [==============================] - 309s 228ms/step - loss: 0.0759 - mean_absolute_error: 0.2033 - val_loss: 2.3636 - val_mean_absolute_error: 1.2806\n",
      "377/377 [==============================] - 68s 156ms/step - loss: 2.3636 - mean_absolute_error: 1.2806\n"
     ]
    },
    {
     "data": {
      "text/plain": [
       "{'Linear': [5.418895244598389, 1.952818512916565],\n",
       " 'Multistep_Linear': [2.6468114852905273, 1.4173250198364258],\n",
       " 'Multistep_LSTM': [1.9776830673217773, 1.204664945602417],\n",
       " 'Multistep_DNN': [2.1063549518585205, 1.2446939945220947]}"
      ]
     },
     "execution_count": 120,
     "metadata": {},
     "output_type": "execute_result"
    }
   ],
   "source": [
    "history = compile_and_fit(dnn_model, multi_step_window)\n",
    "\n",
    "val_performance['Multistep_DNN'] = dnn_model.evaluate(multi_step_window.val)\n",
    "performance['Multistep_DNN'] = dnn_model.evaluate(multi_step_window.test, verbose=0)\n",
    "performance"
   ]
  }
 ],
 "metadata": {
  "kernelspec": {
   "display_name": "Python 3",
   "language": "python",
   "name": "python3"
  },
  "language_info": {
   "codemirror_mode": {
    "name": "ipython",
    "version": 3
   },
   "file_extension": ".py",
   "mimetype": "text/x-python",
   "name": "python",
   "nbconvert_exporter": "python",
   "pygments_lexer": "ipython3",
   "version": "3.9.2"
  }
 },
 "nbformat": 4,
 "nbformat_minor": 5
}
